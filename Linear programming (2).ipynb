{
 "cells": [
  {
   "cell_type": "markdown",
   "metadata": {},
   "source": [
    "Maximize $y=400x_1+200x_2+250x_3$\n",
    "\n",
    "subject to \n",
    "\\begin{align}\n",
    "3.0x_1+1.0x_2+1.5x_3&\\le 1000\\\\\n",
    "0.8x_1+0.2x_2+0.3x_3&\\le 300\\\\\n",
    "x_1+x_2+x_3&\\le 625\\\\\n",
    "x_1, x_2, x_3&\\ge 0\n",
    "\\end{align}\n"
   ]
  },
  {
   "cell_type": "code",
   "execution_count": 6,
   "metadata": {},
   "outputs": [
    {
     "data": {
      "text/plain": [
       "     con: array([], dtype=float64)\n",
       "     fun: -162500.0\n",
       " message: 'Optimization terminated successfully.'\n",
       "     nit: 4\n",
       "   slack: array([ 0. , 62.5,  0. ])\n",
       "  status: 0\n",
       " success: True\n",
       "       x: array([187.5, 437.5,   0. ])"
      ]
     },
     "execution_count": 6,
     "metadata": {},
     "output_type": "execute_result"
    }
   ],
   "source": [
    "from scipy.optimize import linprog\n",
    "obj = [-400,-200,-250]  # need to rephrease problem as min \n",
    "\n",
    "\n",
    "lhs_ineq = [[3, 1, 1.5],  \n",
    "             [0.8,0.2,0.3],  \n",
    "             [ 1,1,1]]  \n",
    "\n",
    "rhs_ineq = [1000, \n",
    "             300, \n",
    "              625]  \n",
    "\n",
    "bnd = [(0, float(\"inf\")),  # Bounds of x_1\n",
    "       (0, float(\"inf\")),  # Bounds of x_2\n",
    "       (0, float(\"inf\"))]  # Bounds of x_3 \n",
    "#The above statement is redundant because linprog() takes these bounds (zero to positive infinity) by default.\n",
    "opt = linprog(c=obj, A_ub=lhs_ineq, b_ub=rhs_ineq, bounds=bnd,              \n",
    "             method=\"simplex\")\n",
    "''' \n",
    "The parameter c refers to the coefficients from the objective function.\n",
    "A_ub and b_ub are related to the coefficients from the left and right sides of the inequality constraints, resp.\n",
    "If there are equality constraints, add A_eq and b_eq.\n",
    "'''\n",
    "opt"
   ]
  },
  {
   "cell_type": "markdown",
   "metadata": {},
   "source": [
    "From the output we see the maximimum of $y$ is 162500, which is attained at $x_1=187.5$, $x_2=437.5$, $x_3=0$.\n",
    "\n",
    "```.slack``` is the values of the slack variables. It shows that the first and the third slack variables are $0$, and thus\n",
    "the first and the third constraints are biniding. The second constraint is not binding."
   ]
  },
  {
   "cell_type": "code",
   "execution_count": null,
   "metadata": {},
   "outputs": [],
   "source": []
  }
 ],
 "metadata": {
  "kernelspec": {
   "display_name": "Python 3",
   "language": "python",
   "name": "python3"
  },
  "language_info": {
   "codemirror_mode": {
    "name": "ipython",
    "version": 3
   },
   "file_extension": ".py",
   "mimetype": "text/x-python",
   "name": "python",
   "nbconvert_exporter": "python",
   "pygments_lexer": "ipython3",
   "version": "3.8.3"
  }
 },
 "nbformat": 4,
 "nbformat_minor": 4
}
