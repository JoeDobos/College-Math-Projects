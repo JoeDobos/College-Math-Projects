{
 "cells": [
  {
   "cell_type": "code",
   "execution_count": 3,
   "metadata": {},
   "outputs": [],
   "source": [
    "import numpy as np  # import libraries"
   ]
  },
  {
   "cell_type": "markdown",
   "metadata": {},
   "source": [
    "The function ```np.linalg.solve``` can also be used to find x for linear systems of equations."
   ]
  },
  {
   "cell_type": "markdown",
   "metadata": {},
   "source": [
    "The linear system that we need to solve is \n",
    "\\begin{align*}\n",
    "339-195-0.02s-0.007t=0\\\\\n",
    "399-225-0.007s-0.02t=0\n",
    "\\end{align*}\n",
    "\n",
    "To use ```np.linalg.solve```, we need to transform the system into the form $Ax=b$, where $x=[s,t]$.\n"
   ]
  },
  {
   "cell_type": "code",
   "execution_count": 2,
   "metadata": {},
   "outputs": [
    {
     "name": "stdout",
     "output_type": "stream",
     "text": [
      "[4735.04273504 7042.73504274]\n"
     ]
    }
   ],
   "source": [
    "A = [[-0.02,-0.007],[-0.007,-0.02]]  # A is defined as a list\n",
    "    # Alternatively, A can be defined as a a numpy array: A = np.array([[-0.02,-0.007],[-0.007,-0.02]])\n",
    "b = [195-339,225-399]\n",
    "x = np.linalg.solve(A,b) # Solving for Ax=b\n",
    "print(x)"
   ]
  },
  {
   "cell_type": "markdown",
   "metadata": {},
   "source": [
    "Alternatively, we can use ```Sympy``` (Symbolic Mathematics in Python) to solve systems of linear equations (and more!).\n",
    "\n",
    "SymPy is a Python library for symbolic mathematics. It aims to be an alternative to systems such as Mathematica or Maple while keeping the code as simple as possible and easily extensible. \n",
    "\n",
    "Sympy is able to solve a large part of polynomial equations, and is also capable of solving multiple equations with respect to multiple variables giving a tuple as second argument. To do this you use the ```solve()``` command:"
   ]
  },
  {
   "cell_type": "code",
   "execution_count": 16,
   "metadata": {},
   "outputs": [
    {
     "data": {
      "text/plain": [
       "(4735.04273504274, 7042.73504273504)"
      ]
     },
     "execution_count": 16,
     "metadata": {},
     "output_type": "execute_result"
    }
   ],
   "source": [
    "import sympy as sym\n",
    "s = sym.Symbol('s') \n",
    "t = sym.Symbol('t') # declare symbolic variables\n",
    "solution = sym.solve((339 - 195 - 0.02 * s - 0.007 * t, 399 - 225 - 0.007 * s - 0.02 * t), (s, t))\n",
    "solution[s], solution[t]"
   ]
  },
  {
   "cell_type": "code",
   "execution_count": 15,
   "metadata": {},
   "outputs": [
    {
     "data": {
      "text/latex": [
       "$\\displaystyle - 0.01 s^{2} - 0.007 s t + 144 s - 0.01 t^{2} + 114 t - 400000$"
      ],
      "text/plain": [
       "-0.01*s**2 - 0.007*s*t + 144*s - 0.01*t**2 + 114*t - 400000"
      ]
     },
     "execution_count": 15,
     "metadata": {},
     "output_type": "execute_result"
    }
   ],
   "source": [
    "sym.expand((339 - 0.01 * s - 0.003 * t) * s + (339 - 0.004 * s - 0.01 * t) * t) - (400000 + 195 * s + 225 * t)"
   ]
  },
  {
   "cell_type": "code",
   "execution_count": null,
   "metadata": {},
   "outputs": [],
   "source": []
  }
 ],
 "metadata": {
  "kernelspec": {
   "display_name": "Python 3",
   "language": "python",
   "name": "python3"
  },
  "language_info": {
   "codemirror_mode": {
    "name": "ipython",
    "version": 3
   },
   "file_extension": ".py",
   "mimetype": "text/x-python",
   "name": "python",
   "nbconvert_exporter": "python",
   "pygments_lexer": "ipython3",
   "version": "3.8.3"
  }
 },
 "nbformat": 4,
 "nbformat_minor": 4
}
